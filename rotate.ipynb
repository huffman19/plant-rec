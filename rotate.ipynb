{
  "nbformat": 4,
  "nbformat_minor": 0,
  "metadata": {
    "colab": {
      "provenance": []
    },
    "kernelspec": {
      "name": "python3",
      "display_name": "Python 3"
    },
    "language_info": {
      "name": "python"
    }
  },
  "cells": [
    {
      "cell_type": "code",
      "source": [
        "from google.colab import drive\n",
        "drive.mount('/content/drive')"
      ],
      "metadata": {
        "colab": {
          "base_uri": "https://localhost:8080/"
        },
        "id": "WqD6mzh7vGpH",
        "outputId": "03e05bdc-bdf5-4711-e310-02b263033295"
      },
      "execution_count": null,
      "outputs": [
        {
          "output_type": "stream",
          "name": "stdout",
          "text": [
            "Mounted at /content/drive\n"
          ]
        }
      ]
    },
    {
      "cell_type": "code",
      "source": [
        "import math\n",
        "import numpy as np\n",
        "from PIL import Image, ImageFilter, ImageEnhance\n",
        "from random import randrange\n",
        "from datetime import datetime\n",
        "import cv2"
      ],
      "metadata": {
        "id": "a1csPwklv71Z"
      },
      "execution_count": null,
      "outputs": []
    },
    {
      "cell_type": "code",
      "execution_count": null,
      "metadata": {
        "colab": {
          "base_uri": "https://localhost:8080/"
        },
        "id": "Y21QsC0MvCca",
        "outputId": "b0072b0c-5b44-4159-a982-d377ce650934"
      },
      "outputs": [
        {
          "output_type": "stream",
          "name": "stdout",
          "text": [
            "306 5.340707511102648\n"
          ]
        }
      ],
      "source": [
        "image = Image.open(\"/content/final_pres_flower.jpg\");\n",
        "image = image.convert(\"L\")\n",
        "image = np.asarray(image)\n",
        "height, width = image.shape\n",
        "random_degrees = randrange(1, 360)\n",
        "random_theta = random_degrees * (math.pi/180)\n",
        "x_rot_coord = width/2\n",
        "y_rot_coord = height/2\n",
        "print(random_degrees, random_theta)\n",
        "new_image = np.zeros_like(image)\n",
        "\n",
        "\n",
        "for y0 in range(0, height):\n",
        "  for x0 in range(0, width):\n",
        "    # Clockwise Rotation\n",
        "    x1= round(math.cos(random_theta)*(x_rot_coord-x0)+math.sin(random_theta)*(y_rot_coord-y0)+x_rot_coord)\n",
        "    y1= round(-math.sin(random_theta)*(x_rot_coord-x0)+math.cos(random_theta)*(y_rot_coord-y0)+y_rot_coord)\n",
        "    \n",
        "    #Counter-Clockwise Rotation\n",
        "    # x1= round(math.cos(random_theta)*(x0-x_rot_coord)-math.sin(random_theta)*(y0-y_rot_coord)+x_rot_coord)\n",
        "    # y1= round(math.sin(random_theta)*(x0-x_rot_coord)+math.cos(random_theta)*(y0-y_rot_coord)+y_rot_coord)\n",
        "\n",
        "    # print(x1, y1, x0, y0)\n",
        "    if(0<=x1<width-1) and (0<=y1<height-1):\n",
        "      new_image[y0,x0]=image[y1,x1]\n",
        "\n",
        "new_image = Image.fromarray(np.uint8(new_image)).convert('L')\n",
        "\n",
        "new_image.save(\"/content/rotation_test \"+str(datetime.now())+\".jpg\")"
      ]
    }
  ]
}