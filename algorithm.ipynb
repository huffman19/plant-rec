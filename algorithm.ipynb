{
  "cells": [
    {
      "cell_type": "code",
      "execution_count": null,
      "metadata": {
        "id": "liRsqbHPzW1Z"
      },
      "outputs": [],
      "source": [
        "import numpy as np\n",
        "import os\n",
        "import tensorflow as tf\n",
        "from tensorflow import keras, Tensor\n",
        "from tensorflow.keras import layers\n",
        "from tensorflow.keras.layers import Layer\n",
        "from tensorflow.keras.models import Sequential\n",
        "import matplotlib.pyplot as plt\n",
        "import matplotlib.image as img\n",
        "import math\n",
        "import scipy\n",
        "import scipy.signal\n"
      ]
    },
    {
      "cell_type": "code",
      "execution_count": null,
      "metadata": {
        "colab": {
          "base_uri": "https://localhost:8080/"
        },
        "id": "YJIzbCqC1eFN",
        "outputId": "fb043b4b-f3c3-4eb6-cd8d-2e00b3e3c85e"
      },
      "outputs": [
        {
          "name": "stdout",
          "output_type": "stream",
          "text": [
            "Mounted at /content/drive\n"
          ]
        }
      ],
      "source": [
        "#mounts to google drive\n",
        "from google.colab import drive\n",
        "drive.mount('/content/drive')"
      ]
    },
    {
      "cell_type": "code",
      "execution_count": null,
      "metadata": {
        "id": "YPdnCHd6zj1Y"
      },
      "outputs": [],
      "source": [
        "def get_model():\n",
        "  new_model = tf.keras.models.load_model('/content/drive/My Drive/VIP - Plant Recognition/Collab Notebooks/cnn_model.h5')\n",
        "  return new_model\n",
        "\n",
        "def greyscale(imageArray:np.ndarray):\n",
        "    # initialize 3D array representation of Image\n",
        "    # initialize numpy array of zeros for output\n",
        "    arr = np.zeros((imageArray.shape[0],imageArray.shape[1]))\n",
        "    # Sum of RGB values according to BT.709 at each pixel\n",
        "    # Y = 0.2126R + 0.7152G + 0.0722B\n",
        "    \n",
        "    arr = imageArray[:,:,0] * 0.2126 + imageArray[:,:,1] *  0.7152 + imageArray[:,:,2] * 0.0722\n",
        "    return arr\n",
        "\n",
        "def resizeImage(oldImageArr: np.array, new_width, new_height):    \n",
        "    #image.shape returns (height, width)\n",
        "    width = oldImageArr.shape[1]\n",
        "    height = oldImageArr.shape[0]\n",
        "    \n",
        "    #initialize numpy array for new image\n",
        "    new_image = np.ndarray((new_height, new_width)) \n",
        "    \n",
        "    #Iterates through each pixel in the new image\n",
        "    #Chooses the pixel value based by approximating \n",
        "    #the corresponding pixel location in the old image array\n",
        "    #The pixel at the approximated location is used as the new\n",
        "    #pixel value\n",
        "    for x in range(new_width):\n",
        "        for y in range(new_height):\n",
        "            new_image[y][x] = oldImageArr[int(y*(height/new_height)) , int(x*(width/new_width))] \n",
        "            \n",
        "    return new_image\n",
        "\n",
        "#Bruna's function\n",
        "''' This is the final version of the filter, which uses both the x filter and the y filter '''\n",
        "def both_filters_greyscale1(image):\n",
        "\n",
        "    #kernel to traverse x\n",
        "    horizontal_filter = [[-1,0,1],\n",
        "                        [-2,0,2],\n",
        "                        [-1,0,1]]\n",
        "\n",
        "    #kernel to traverse y\n",
        "    vertical_filter =   [[-1,-2,-1],\n",
        "                        [0,0,0],\n",
        "                        [1,2,1]]\n",
        "\n",
        "    height, width = image.shape\n",
        "    \n",
        "    new_image = np.zeros_like(image)\n",
        "    \n",
        "    for i in range(1, height - 2):\n",
        "        for j in range(1, width-2):\n",
        "            local_pixels = image[i-1:i+2, j-1:j+2]\n",
        "            \n",
        "            horizontal_transformed_pixels = horizontal_filter * local_pixels\n",
        "            horizontal_score = (horizontal_transformed_pixels.sum())    #these values are not plot to 0-1 because otherwise \n",
        "                                                                        #the result becomes too dim.\n",
        "        \n",
        "            vertical_transformed_pixels = vertical_filter * local_pixels \n",
        "            vertical_score = (vertical_transformed_pixels.sum())\n",
        "            \n",
        "            edge_score = (vertical_score**2 + horizontal_score**2)**0.5\n",
        "            new_image[i][j] = edge_score \n",
        "    \n",
        "    return new_image\n",
        "\n",
        "# 9/18/2022 (ah)\n",
        "def gaussianBlur(imageArr: np.array, radius: int):\n",
        "    sigma = 2#max(float(radius/2), 1)\n",
        "    # Computes Kernal size from radius\n",
        "    # EX: radius = 1 -> kernalSize = 3\n",
        "    # 3x3 Kernal\n",
        "    kernalSize = (2 * radius) + 1\n",
        "    outputArr = np.zeros(imageArr.shape)\n",
        "    #Initialize kernal\n",
        "    kernal = np.zeros((kernalSize, kernalSize))\n",
        "    sum = 0\n",
        "    \n",
        "    # Iterate through each element in kernal to determine value\n",
        "    # Uses 2d gaussian function, center position is 0\n",
        "    # x and y range from -radius to radius \n",
        "    # 'value' is the output from gaussian function at point (x,y)\n",
        "    for x in range(-radius, radius+1):\n",
        "        for y in range(-radius, radius+1):\n",
        "            expNum = float(-(x*x + y*y))\n",
        "            expDenom = (2 * sigma * sigma)\n",
        "            \n",
        "            expResult = math.exp(expNum / expDenom)\n",
        "            value = (expResult / (2 * math.pi * sigma * sigma))\n",
        "            kernal[x + radius][y + radius] = value\n",
        "            sum += value\n",
        "    \n",
        "    #Normalized the kernal\n",
        "    for x in range(kernalSize):\n",
        "        for y in range(kernalSize):\n",
        "            kernal[x][y] /= sum\n",
        "    \n",
        "    #TODO: blur edge pixels\n",
        "    #This is where the new value for each pixel is calculated\n",
        "    #Iterates over every pixel that allows for operation\n",
        "    outputArr = scipy.signal.convolve(kernal, imageArr)\n",
        "    \n",
        "    \n",
        "    return outputArr\n",
        "\n",
        "#NOTE: below is a function that I wrote to try to see if I could decrease the size of the shapes in the background. I don't think this will be useful.\n",
        "def nonBinaryThreshold(image, threshValue1, threshValue2):#image is in greyscale\n",
        "    output = np.zeros_like(image)\n",
        "    rows, columns =  output.shape\n",
        "\n",
        "    for row in range(0, rows-1):\n",
        "        for col in range(0, columns-1):\n",
        "            if image[row][col] >= threshValue1:\n",
        "                output[row][col] = 255\n",
        "            elif image[row][col] < threshValue1 and image[row][col] >= threshValue2:\n",
        "                output[row][col] = 127\n",
        "            else:\n",
        "                output[row][col] = 0\n",
        "\n",
        "    return output\n"
      ]
    },
    {
      "cell_type": "code",
      "execution_count": null,
      "metadata": {
        "colab": {
          "base_uri": "https://localhost:8080/",
          "height": 381
        },
        "id": "GN2Og_mX02lR",
        "outputId": "24ce3a85-8acc-4463-a093-59b7217c9266"
      },
      "outputs": [
        {
          "ename": "FileNotFoundError",
          "evalue": "ignored",
          "output_type": "error",
          "traceback": [
            "\u001b[0;31m---------------------------------------------------------------------------\u001b[0m",
            "\u001b[0;31mFileNotFoundError\u001b[0m                         Traceback (most recent call last)",
            "\u001b[0;32m<ipython-input-4-ad5c8a582d0e>\u001b[0m in \u001b[0;36m<module>\u001b[0;34m\u001b[0m\n\u001b[1;32m      4\u001b[0m \u001b[0mimg_height\u001b[0m \u001b[0;34m=\u001b[0m \u001b[0;36m128\u001b[0m\u001b[0;34m\u001b[0m\u001b[0;34m\u001b[0m\u001b[0m\n\u001b[1;32m      5\u001b[0m \u001b[0;34m\u001b[0m\u001b[0m\n\u001b[0;32m----> 6\u001b[0;31m \u001b[0mimage\u001b[0m \u001b[0;34m=\u001b[0m \u001b[0mimg\u001b[0m\u001b[0;34m.\u001b[0m\u001b[0mimread\u001b[0m\u001b[0;34m(\u001b[0m\u001b[0mfilePath\u001b[0m\u001b[0;34m)\u001b[0m\u001b[0;34m\u001b[0m\u001b[0;34m\u001b[0m\u001b[0m\n\u001b[0m\u001b[1;32m      7\u001b[0m \u001b[0mgrey\u001b[0m \u001b[0;34m=\u001b[0m \u001b[0mgreyscale\u001b[0m\u001b[0;34m(\u001b[0m\u001b[0mimage\u001b[0m\u001b[0;34m)\u001b[0m\u001b[0;34m\u001b[0m\u001b[0;34m\u001b[0m\u001b[0m\n\u001b[1;32m      8\u001b[0m \u001b[0mblur\u001b[0m \u001b[0;34m=\u001b[0m \u001b[0mgaussianBlur\u001b[0m\u001b[0;34m(\u001b[0m\u001b[0mgrey\u001b[0m\u001b[0;34m,\u001b[0m \u001b[0;36m5\u001b[0m\u001b[0;34m)\u001b[0m\u001b[0;34m\u001b[0m\u001b[0;34m\u001b[0m\u001b[0m\n",
            "\u001b[0;32m/usr/local/lib/python3.8/dist-packages/matplotlib/image.py\u001b[0m in \u001b[0;36mimread\u001b[0;34m(fname, format)\u001b[0m\n\u001b[1;32m   1462\u001b[0m             raise ValueError('Only know how to handle PNG; with Pillow '\n\u001b[1;32m   1463\u001b[0m                              'installed, Matplotlib can handle more images')\n\u001b[0;32m-> 1464\u001b[0;31m         \u001b[0;32mwith\u001b[0m \u001b[0mImage\u001b[0m\u001b[0;34m.\u001b[0m\u001b[0mopen\u001b[0m\u001b[0;34m(\u001b[0m\u001b[0mfname\u001b[0m\u001b[0;34m)\u001b[0m \u001b[0;32mas\u001b[0m \u001b[0mimage\u001b[0m\u001b[0;34m:\u001b[0m\u001b[0;34m\u001b[0m\u001b[0;34m\u001b[0m\u001b[0m\n\u001b[0m\u001b[1;32m   1465\u001b[0m             \u001b[0;32mreturn\u001b[0m \u001b[0mpil_to_array\u001b[0m\u001b[0;34m(\u001b[0m\u001b[0mimage\u001b[0m\u001b[0;34m)\u001b[0m\u001b[0;34m\u001b[0m\u001b[0;34m\u001b[0m\u001b[0m\n\u001b[1;32m   1466\u001b[0m     \u001b[0;32mfrom\u001b[0m \u001b[0mmatplotlib\u001b[0m \u001b[0;32mimport\u001b[0m \u001b[0m_png\u001b[0m\u001b[0;34m\u001b[0m\u001b[0;34m\u001b[0m\u001b[0m\n",
            "\u001b[0;32m/usr/local/lib/python3.8/dist-packages/PIL/Image.py\u001b[0m in \u001b[0;36mopen\u001b[0;34m(fp, mode)\u001b[0m\n\u001b[1;32m   2841\u001b[0m \u001b[0;34m\u001b[0m\u001b[0m\n\u001b[1;32m   2842\u001b[0m     \u001b[0;32mif\u001b[0m \u001b[0mfilename\u001b[0m\u001b[0;34m:\u001b[0m\u001b[0;34m\u001b[0m\u001b[0;34m\u001b[0m\u001b[0m\n\u001b[0;32m-> 2843\u001b[0;31m         \u001b[0mfp\u001b[0m \u001b[0;34m=\u001b[0m \u001b[0mbuiltins\u001b[0m\u001b[0;34m.\u001b[0m\u001b[0mopen\u001b[0m\u001b[0;34m(\u001b[0m\u001b[0mfilename\u001b[0m\u001b[0;34m,\u001b[0m \u001b[0;34m\"rb\"\u001b[0m\u001b[0;34m)\u001b[0m\u001b[0;34m\u001b[0m\u001b[0;34m\u001b[0m\u001b[0m\n\u001b[0m\u001b[1;32m   2844\u001b[0m         \u001b[0mexclusive_fp\u001b[0m \u001b[0;34m=\u001b[0m \u001b[0;32mTrue\u001b[0m\u001b[0;34m\u001b[0m\u001b[0;34m\u001b[0m\u001b[0m\n\u001b[1;32m   2845\u001b[0m \u001b[0;34m\u001b[0m\u001b[0m\n",
            "\u001b[0;31mFileNotFoundError\u001b[0m: [Errno 2] No such file or directory: '/content/drive/MyDrive/Flower Images/Diablo Cosmo/dc14.jpg'"
          ]
        }
      ],
      "source": [
        "# filePath = \"/content/drive/MyDrive/test_images/mmh/mmh39.jpg\"\n",
        "filePath = \"/content/drive/MyDrive/Flower Images/Diablo Cosmo/dc14.jpg\"\n",
        "img_width = 128\n",
        "img_height = 128\n",
        "\n",
        "image = img.imread(filePath)\n",
        "grey = greyscale(image)\n",
        "blur = gaussianBlur(grey, 5)\n",
        "sobel = both_filters_greyscale1(blur)\n",
        "thres = nonBinaryThreshold(sobel, 150, 50)\n",
        "resize_image = resizeImage(thres, img_width, img_height)\n",
        "tensor_image = tf.convert_to_tensor(resize_image)\n",
        "tensor_image = tf.expand_dims(tensor_image, axis=0)\n",
        "tensor_image = tf.reshape(tensor_image, [128,128,1])\n",
        "tensor_image = tf.expand_dims(tensor_image, axis=0)\n",
        "\n",
        "\n",
        "#/content/drive/MyDrive/test_images/mmh39.jpg\n",
        "# plt.imshow(tensor_image, cmap='gray')\n",
        "# plt.show()\n"
      ]
    },
    {
      "cell_type": "code",
      "execution_count": null,
      "metadata": {
        "colab": {
          "base_uri": "https://localhost:8080/"
        },
        "id": "YEvtnXO69z7s",
        "outputId": "4c549677-8115-40ea-d4c9-d07a3f4c8098"
      },
      "outputs": [
        {
          "name": "stdout",
          "output_type": "stream",
          "text": [
            "mmh\n",
            "[0.30018508 0.49658036 0.20323454]\n"
          ]
        }
      ],
      "source": [
        "model = get_model()\n",
        "prediction_list = model.predict(tensor_image, verbose=0)[0]\n",
        "prediction = max(prediction_list)\n",
        "prediction_index = list(prediction_list).index(prediction)\n",
        "classes = ['diablo', 'mmh', 'vis']\n",
        "ans = classes[prediction_index]\n",
        "print(ans)\n",
        "print(prediction_list)\n"
      ]
    },
    {
      "cell_type": "code",
      "execution_count": null,
      "metadata": {
        "colab": {
          "base_uri": "https://localhost:8080/"
        },
        "id": "63HjOWNT5Na1",
        "outputId": "bc8522d3-c0f9-45a1-94d7-54304ab3429e"
      },
      "outputs": [
        {
          "name": "stdout",
          "output_type": "stream",
          "text": [
            "Found 6 files belonging to 3 classes.\n"
          ]
        }
      ],
      "source": [
        "val_ds = tf.keras.utils.image_dataset_from_directory(\n",
        "  \"/content/drive/MyDrive/test_images\",\n",
        "  label_mode='int',\n",
        "  color_mode=\"grayscale\",\n",
        "  shuffle=\"False\",\n",
        "  seed=123,\n",
        "  image_size=(128, 128),\n",
        "  batch_size=1)\n",
        "\n",
        "# model = get_model()\n",
        "# for images, labels in val_ds.take(1):\n",
        "#   print(images.shape)\n",
        "#   prediction = model.predict(images)\n",
        "\n",
        "# #['diablo', 'mmh', 'vis']\n",
        "# fig, ax = plt.subplots(6)\n",
        "# fig.set_size_inches(12,12)\n",
        "# print(labels)\n",
        "# for idx in range(6):\n",
        "#     print(labels[idx])\n",
        "#     [print(x) for x in prediction[idx]]\n",
        "#     image = tf.transpose(images[idx], perm=[2,0,1])\n",
        "#     ax[idx].imshow(image[0], cmap=\"gray\")"
      ]
    }
  ],
  "metadata": {
    "colab": {
      "provenance": []
    },
    "kernelspec": {
      "display_name": "Python 3.10.8 64-bit (microsoft store)",
      "language": "python",
      "name": "python3"
    },
    "language_info": {
      "name": "python",
      "version": "3.10.8"
    },
    "vscode": {
      "interpreter": {
        "hash": "c3a1fa2c9a3bd8a0d9bc25930462c9f82b1435ea76fe022a17a398d556ac68f0"
      }
    }
  },
  "nbformat": 4,
  "nbformat_minor": 0
}
