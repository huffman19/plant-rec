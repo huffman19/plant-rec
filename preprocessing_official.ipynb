{
  "nbformat": 4,
  "nbformat_minor": 0,
  "metadata": {
    "colab": {
      "provenance": []
    },
    "kernelspec": {
      "name": "python3",
      "display_name": "Python 3"
    },
    "language_info": {
      "name": "python"
    }
  },
  "cells": [
    {
      "cell_type": "code",
      "execution_count": null,
      "metadata": {
        "id": "5N1Vd8vtx7j2"
      },
      "outputs": [],
      "source": [
        "import matplotlib.pyplot as plt\n",
        "import cv2\n",
        "import numpy as np\n",
        "!pip3 install pillow-heiffrom PIL import Image, ImageFilter, ImageEnhance\n",
        "\n",
        "def preprocess_image(filename:str)\n",
        "\n",
        "  #image = Image.open(flower)#(\"/content/drive/MyDrive/Flower Images/Vanilla Ice Sunflower/Copy of IMG_9713.HEIC\");\n",
        "  image = Image.open(filename)\n",
        "  image = image.convert(\"L\")\n",
        "\n",
        "  # Blur image with Gaussian blur\n",
        "  image = image.filter(ImageFilter.GaussianBlur(radius = 3))\n",
        "    \n",
        "  # Perform edge detection with Sobel Edge detection using cv2\n",
        "  # Considered using Pillow's FIND_EDGES, but learned that it implements Laplacian Edge detection, when we were intending to use Sobel.\n",
        "  x = cv2.convertScaleAbs(cv2.Sobel(np.asarray(image), cv2.CV_64F, 1, 0, ksize=3))\n",
        "  y = cv2.convertScaleAbs(cv2.Sobel(np.asarray(image), cv2.CV_64F, 0, 1, ksize=3))\n",
        "  image = Image.fromarray(np.uint8(cv2.addWeighted(x, 0.5, y, 0.5, 0))).convert('L')\n",
        "\n",
        "  # Increasing brightness:\n",
        "  image = image.point(lambda i: i * 4)\n",
        "\n",
        "  # Perform thresholding\n",
        "  image = image.point( lambda p: 255 if p > 100 else 0 )\n",
        "\n",
        "  #Save final preprocessed image\n",
        "  image.save(\"preprocessed.jpg\")\n",
        "\n",
        "\n",
        "  "
      ]
    }
  ]
}