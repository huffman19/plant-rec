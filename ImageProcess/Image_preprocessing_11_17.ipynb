{
  "cells": [
    {
      "cell_type": "markdown",
      "source": [
        " Import libraries"
      ],
      "metadata": {
        "id": "6qiIxeALDEzX"
      }
    },
    {
      "cell_type": "code",
      "execution_count": 1,
      "metadata": {
        "id": "lwK_i0GLQjvM",
        "colab": {
          "base_uri": "https://localhost:8080/"
        },
        "outputId": "517ec779-9749-4af3-85a0-ac0d8fd55c92"
      },
      "outputs": [
        {
          "output_type": "stream",
          "name": "stdout",
          "text": [
            "Looking in indexes: https://pypi.org/simple, https://us-python.pkg.dev/colab-wheels/public/simple/\n",
            "Collecting tensorflow_addons\n",
            "  Downloading tensorflow_addons-0.18.0-cp37-cp37m-manylinux_2_17_x86_64.manylinux2014_x86_64.whl (1.1 MB)\n",
            "\u001b[K     |████████████████████████████████| 1.1 MB 7.3 MB/s \n",
            "\u001b[?25hRequirement already satisfied: packaging in /usr/local/lib/python3.7/dist-packages (from tensorflow_addons) (21.3)\n",
            "Requirement already satisfied: typeguard>=2.7 in /usr/local/lib/python3.7/dist-packages (from tensorflow_addons) (2.7.1)\n",
            "Requirement already satisfied: pyparsing!=3.0.5,>=2.0.2 in /usr/local/lib/python3.7/dist-packages (from packaging->tensorflow_addons) (3.0.9)\n",
            "Installing collected packages: tensorflow-addons\n",
            "Successfully installed tensorflow-addons-0.18.0\n",
            "Colab only includes TensorFlow 2.x; %tensorflow_version has no effect.\n",
            "Looking in indexes: https://pypi.org/simple, https://us-python.pkg.dev/colab-wheels/public/simple/\n",
            "Collecting pillow-heif\n",
            "  Downloading pillow_heif-0.8.0-cp36-abi3-manylinux_2_17_x86_64.manylinux2014_x86_64.whl (7.5 MB)\n",
            "\u001b[K     |████████████████████████████████| 7.5 MB 6.6 MB/s \n",
            "\u001b[?25hRequirement already satisfied: pillow>=6.2.0 in /usr/local/lib/python3.7/dist-packages (from pillow-heif) (7.1.2)\n",
            "Requirement already satisfied: cffi>=1.14.6 in /usr/local/lib/python3.7/dist-packages (from pillow-heif) (1.15.1)\n",
            "Requirement already satisfied: pycparser in /usr/local/lib/python3.7/dist-packages (from cffi>=1.14.6->pillow-heif) (2.21)\n",
            "Installing collected packages: pillow-heif\n",
            "Successfully installed pillow-heif-0.8.0\n"
          ]
        }
      ],
      "source": [
        "!pip install tensorflow_addons\n",
        "import matplotlib.pyplot as plt\n",
        "import cv2\n",
        "import numpy as np\n",
        "import pandas as pd\n",
        "import tensorflow as tf\n",
        "%tensorflow_version 2.x\n",
        "import tensorflow_addons as tfa\n",
        "from tensorflow import keras\n",
        "from tensorflow.keras import layers\n",
        "from tensorflow.keras.layers import Layer\n",
        "from tensorflow.keras.models import Sequential\n",
        "!pip3 install pillow-heif\n",
        "#this is for importing HEIC images with Pillow"
      ]
    },
    {
      "cell_type": "markdown",
      "source": [
        "Mount Notebook onto drive"
      ],
      "metadata": {
        "id": "xjKEgpVzFbYK"
      }
    },
    {
      "cell_type": "code",
      "execution_count": 2,
      "metadata": {
        "colab": {
          "base_uri": "https://localhost:8080/"
        },
        "id": "Jirn2PX1QrE_",
        "outputId": "2e276956-6f13-4a48-e855-3c8fb464d0cd"
      },
      "outputs": [
        {
          "output_type": "stream",
          "name": "stdout",
          "text": [
            "Mounted at /content/drive\n"
          ]
        }
      ],
      "source": [
        "from google.colab import drive\n",
        "drive.mount('/content/drive')"
      ]
    },
    {
      "cell_type": "markdown",
      "source": [
        "Create appropriate directory for images to be processed"
      ],
      "metadata": {
        "id": "XY2LDhvvFWfq"
      }
    },
    {
      "cell_type": "code",
      "execution_count": 3,
      "metadata": {
        "id": "dSf-o0SVRbDS"
      },
      "outputs": [],
      "source": [
        "from pathlib import Path\n",
        "# assign directory\n",
        "directory = \"/content/drive/MyDrive/Flower Images/Diablo Cosmo\"\n",
        " \n",
        "# iterate over files in\n",
        "# that directory\n",
        "files = Path(directory).glob('*')\n",
        "#for file in files:\n",
        "    #print(file)"
      ]
    },
    {
      "cell_type": "markdown",
      "source": [
        "Bruna's greyscale function from our teams Gogs that we created earlier in the semester. Did not end up using as takes too long."
      ],
      "metadata": {
        "id": "sJhpuHBmDqtS"
      }
    },
    {
      "cell_type": "code",
      "source": [
        "from PIL import Image, ImageFilter, ImageEnhance\n",
        "from pillow_heif import register_heif_opener\n",
        "\n",
        "def both_filters_greyscale1(image):\n",
        "\n",
        "    #kernel to traverse x\n",
        "    horizontal_filter = [[-1,0,1],\n",
        "                        [-2,0,2],\n",
        "                        [-1,0,1]]\n",
        "\n",
        "    #kernel to traverse y\n",
        "    vertical_filter =   [[-1,-2,-1],\n",
        "                        [0,0,0],\n",
        "                        [1,2,1]]\n",
        "\n",
        "    height, width = image.shape\n",
        "    \n",
        "    new_image = np.zeros_like(image)\n",
        "    \n",
        "    for i in range(1, height - 2):\n",
        "        for j in range(1, width-2):\n",
        "            local_pixels = image[i-1:i+2, j-1:j+2]\n",
        "            \n",
        "            horizontal_transformed_pixels = horizontal_filter * local_pixels\n",
        "            horizontal_score = (horizontal_transformed_pixels.sum())    #these values are not plot to 0-1 because otherwise \n",
        "                                                                        #the result becomes too dim.\n",
        "        \n",
        "            vertical_transformed_pixels = vertical_filter * local_pixels \n",
        "            vertical_score = (vertical_transformed_pixels.sum())\n",
        "            \n",
        "            edge_score = (vertical_score**2 + horizontal_score**2)**0.5\n",
        "            new_image[i][j] = edge_score \n",
        "    \n",
        "    return new_image"
      ],
      "metadata": {
        "id": "4BtXO6_UDkp1"
      },
      "execution_count": null,
      "outputs": []
    },
    {
      "cell_type": "markdown",
      "source": [
        "Preprocessing program, based off of Bruna's original preprocessing Colab notebook."
      ],
      "metadata": {
        "id": "1V4MMgIkFnoF"
      }
    },
    {
      "cell_type": "code",
      "execution_count": 4,
      "metadata": {
        "colab": {
          "base_uri": "https://localhost:8080/",
          "height": 322
        },
        "id": "id-EpRM7RsxE",
        "outputId": "101e6945-8508-4dd9-9d9f-e24078dfc8b0"
      },
      "outputs": [
        {
          "output_type": "error",
          "ename": "KeyboardInterrupt",
          "evalue": "ignored",
          "traceback": [
            "\u001b[0;31m---------------------------------------------------------------------------\u001b[0m",
            "\u001b[0;31mKeyboardInterrupt\u001b[0m                         Traceback (most recent call last)",
            "\u001b[0;32m<ipython-input-4-d2eade3a62cf>\u001b[0m in \u001b[0;36m<module>\u001b[0;34m\u001b[0m\n\u001b[1;32m     37\u001b[0m \u001b[0;34m\u001b[0m\u001b[0m\n\u001b[1;32m     38\u001b[0m   \u001b[0;31m#Save final preprocessed image\u001b[0m\u001b[0;34m\u001b[0m\u001b[0;34m\u001b[0m\u001b[0;34m\u001b[0m\u001b[0m\n\u001b[0;32m---> 39\u001b[0;31m   \u001b[0mimage\u001b[0m\u001b[0;34m.\u001b[0m\u001b[0msave\u001b[0m\u001b[0;34m(\u001b[0m\u001b[0;34m\"/content/drive/MyDrive/Preprocessing/Diablo Cosmo/\"\u001b[0m\u001b[0;34m+\u001b[0m \u001b[0mstr\u001b[0m\u001b[0;34m(\u001b[0m\u001b[0mname\u001b[0m\u001b[0;34m)\u001b[0m \u001b[0;34m+\u001b[0m \u001b[0;34m\".jpg\"\u001b[0m\u001b[0;34m)\u001b[0m\u001b[0;34m\u001b[0m\u001b[0;34m\u001b[0m\u001b[0m\n\u001b[0m",
            "\u001b[0;32m/usr/local/lib/python3.7/dist-packages/PIL/Image.py\u001b[0m in \u001b[0;36msave\u001b[0;34m(self, fp, format, **params)\u001b[0m\n\u001b[1;32m   2129\u001b[0m                 \u001b[0mfp\u001b[0m \u001b[0;34m=\u001b[0m \u001b[0mbuiltins\u001b[0m\u001b[0;34m.\u001b[0m\u001b[0mopen\u001b[0m\u001b[0;34m(\u001b[0m\u001b[0mfilename\u001b[0m\u001b[0;34m,\u001b[0m \u001b[0;34m\"r+b\"\u001b[0m\u001b[0;34m)\u001b[0m\u001b[0;34m\u001b[0m\u001b[0;34m\u001b[0m\u001b[0m\n\u001b[1;32m   2130\u001b[0m             \u001b[0;32melse\u001b[0m\u001b[0;34m:\u001b[0m\u001b[0;34m\u001b[0m\u001b[0;34m\u001b[0m\u001b[0m\n\u001b[0;32m-> 2131\u001b[0;31m                 \u001b[0mfp\u001b[0m \u001b[0;34m=\u001b[0m \u001b[0mbuiltins\u001b[0m\u001b[0;34m.\u001b[0m\u001b[0mopen\u001b[0m\u001b[0;34m(\u001b[0m\u001b[0mfilename\u001b[0m\u001b[0;34m,\u001b[0m \u001b[0;34m\"w+b\"\u001b[0m\u001b[0;34m)\u001b[0m\u001b[0;34m\u001b[0m\u001b[0;34m\u001b[0m\u001b[0m\n\u001b[0m\u001b[1;32m   2132\u001b[0m \u001b[0;34m\u001b[0m\u001b[0m\n\u001b[1;32m   2133\u001b[0m         \u001b[0;32mtry\u001b[0m\u001b[0;34m:\u001b[0m\u001b[0;34m\u001b[0m\u001b[0;34m\u001b[0m\u001b[0m\n",
            "\u001b[0;31mKeyboardInterrupt\u001b[0m: "
          ]
        }
      ],
      "source": [
        "from PIL import Image, ImageFilter, ImageEnhance\n",
        "from pillow_heif import register_heif_opener\n",
        "\n",
        "\n",
        "register_heif_opener()\n",
        "\n",
        "name = 0; #I just used numbers for named, but we can choose some other naming convention.\n",
        "for flower in files:\n",
        "  name = name + 1\n",
        "  image = Image.open(flower)#(\"/content/drive/MyDrive/Flower Images/Vanilla Ice Sunflower/Copy of IMG_9713.HEIC\");\n",
        "  \n",
        "  #Convert Image to greyscale\n",
        "  image = image.convert(\"L\")\n",
        "  # np_image = both_filters_greyscale1(np.asarray(image))\n",
        "  # image = Image.fromarray(np.uint8(np_image)).convert('L')\n",
        "  # image.save(\"/content/drive/MyDrive/preprocessing/greyscale/\"+ str(53) + \".jpg\")\n",
        "\n",
        "  # Blur image with Gaussian blur\n",
        "  image = image.filter(ImageFilter.GaussianBlur(radius = 3))\n",
        "  # image.save(\"/content/drive/MyDrive/preprocessing/gb2/\"+ str(53) + \".jpg\")\n",
        "   \n",
        "\n",
        "  # Perform edge detection with Sobel Edge detection using cv2\n",
        "  # Considered using Pillow's FIND_EDGES, but learned that it implements Laplacian Edge detection, when we were intending to use Sobel.\n",
        "  x = cv2.convertScaleAbs(cv2.Sobel(np.asarray(image), cv2.CV_64F, 1, 0, ksize=3))\n",
        "  y = cv2.convertScaleAbs(cv2.Sobel(np.asarray(image), cv2.CV_64F, 0, 1, ksize=3))\n",
        "  image = Image.fromarray(np.uint8(cv2.addWeighted(x, 0.5, y, 0.5, 0))).convert('L')\n",
        "  # image.save(\"/content/drive/MyDrive/preprocessing/edge/\"+ str(53) + \".jpg\")\n",
        "\n",
        "\n",
        "  # Increasing brightness:\n",
        "  image = image.point(lambda i: i * 4)\n",
        "  # image.save(\"/content/drive/MyDrive/preprocessing/enhance/\"+ str(53) + \".jpg\")\n",
        "\n",
        "  # Perform thresholding\n",
        "  image = image.point( lambda p: 255 if p > 100 else 0 )\n",
        "\n",
        "  #Save final preprocessed image\n",
        "  image.save(\"/content/drive/MyDrive/Preprocessing/Diablo Cosmo/\"+ str(name) + \".jpg\")\n"
      ]
    },
    {
      "cell_type": "code",
      "execution_count": null,
      "metadata": {
        "id": "546BibNSmGEh"
      },
      "outputs": [],
      "source": []
    }
  ],
  "metadata": {
    "colab": {
      "provenance": []
    },
    "kernelspec": {
      "display_name": "Python 3",
      "name": "python3"
    },
    "language_info": {
      "name": "python"
    }
  },
  "nbformat": 4,
  "nbformat_minor": 0
}