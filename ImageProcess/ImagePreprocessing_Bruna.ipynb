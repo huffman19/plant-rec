{
  "nbformat": 4,
  "nbformat_minor": 0,
  "metadata": {
    "colab": {
      "provenance": []
    },
    "kernelspec": {
      "name": "python3",
      "display_name": "Python 3"
    },
    "language_info": {
      "name": "python"
    }
  },
  "cells": [
    {
      "cell_type": "code",
      "execution_count": null,
      "metadata": {
        "id": "lwK_i0GLQjvM"
      },
      "outputs": [],
      "source": [
        "import matplotlib.pyplot as plt\n",
        "import cv2\n",
        "import tensorflow as tf\n",
        "import numpy as np\n",
        "from tensorflow.keras import models, layers, losses, activations, regularizers, metrics "
      ]
    },
    {
      "cell_type": "code",
      "source": [
        "from google.colab import drive\n",
        "drive.mount('/content/drive')"
      ],
      "metadata": {
        "id": "Jirn2PX1QrE_"
      },
      "execution_count": null,
      "outputs": []
    },
    {
      "cell_type": "code",
      "source": [
        "\n",
        "## If you need to cd into a different directory to obtain the images: \n",
        "# (change depending on which directory Colab is)\n",
        "%cd /content/drive/MyDrive/Flower Images/Vanilla Ice Sunflower\n",
        "## After I can for example read csv files with\n",
        "df = pd.read_csv(\"data_example.csv\")\n",
        "## If you have different locations for the files just add the correct path after My Drive"
      ],
      "metadata": {
        "id": "rP1mR3KpQvmQ"
      },
      "execution_count": null,
      "outputs": []
    },
    {
      "cell_type": "code",
      "source": [
        "!zip -r \"/content/drive/MyDrive/Vanilla Ice Sunflower.zip\" \"/content/drive/MyDrive/Flower Images/Vanilla Ice Sunflower\"\n",
        "#This creates a zip folder with all the images, and saves them in the specified directory with the specified name. \n",
        "#There is a function to unzip the files, but I just clicked it and selected option \"Open with Zip Extractor\" and it worked well."
      ],
      "metadata": {
        "id": "M3nqYoOEQ5yo"
      },
      "execution_count": null,
      "outputs": []
    },
    {
      "cell_type": "code",
      "source": [
        "!pip3 install pillow-heif\n",
        "#this is for importing HEIC images with Pillow"
      ],
      "metadata": {
        "id": "8SZfuaGTRmlR"
      },
      "execution_count": null,
      "outputs": []
    },
    {
      "cell_type": "code",
      "source": [
        "from pathlib import Path\n",
        "# assign directory\n",
        "directory = '/content/drive/MyDrive/Colab Notebooks/Vanilla Ice Sunflower'\n",
        " \n",
        "# iterate over files in\n",
        "# that directory\n",
        "files = Path(directory).glob('*')\n",
        "#for file in files:\n",
        "    #print(file)"
      ],
      "metadata": {
        "id": "dSf-o0SVRbDS"
      },
      "execution_count": null,
      "outputs": []
    },
    {
      "cell_type": "code",
      "source": [
        "from PIL import Image, ImageFilter\n",
        "from pillow_heif import register_heif_opener\n",
        "\n",
        "register_heif_opener()\n",
        "\n",
        "name = 0; #I just used numbers for named, but we can choose some other naming convention.\n",
        "for flower in files:\n",
        "  name = name + 1\n",
        "  image = Image.open(flower);\n",
        "  image = image.convert(\"L\") #grayscale\n",
        "  \n",
        "  # Detecting Edges on the Image using the argument ImageFilter.FIND_EDGES\n",
        "  image = image.filter(ImageFilter.GaussianBlur(radius = 0.5))\n",
        "  image = image.filter(ImageFilter.FIND_EDGES)\n",
        "\n",
        "  # Saving the Image Under the name Edge_Sample.png\n",
        "  finalname = \"/content/drive/MyDrive/Colab Notebooks/New images/\" + str(name) + \".jpg\"\n",
        "  image.save(finalname)\n",
        "#img_data = Image.open(data_dir)\n",
        "#plt.imshow(img_data)"
      ],
      "metadata": {
        "id": "id-EpRM7RsxE"
      },
      "execution_count": null,
      "outputs": []
    }
  ]
}