{
  "nbformat": 4,
  "nbformat_minor": 0,
  "metadata": {
    "colab": {
      "provenance": []
    },
    "kernelspec": {
      "name": "python3",
      "display_name": "Python 3"
    },
    "language_info": {
      "name": "python"
    }
  },
  "cells": [
    {
      "cell_type": "code",
      "execution_count": 12,
      "metadata": {
        "id": "8e06knmhpVvZ"
      },
      "outputs": [],
      "source": [
        "import os\n",
        "import random\n",
        "import numpy as np\n",
        "import matplotlib.pyplot as plt\n",
        "import cv2"
      ]
    },
    {
      "cell_type": "code",
      "source": [
        "from google.colab import drive\n",
        "drive.mount('/content/drive')"
      ],
      "metadata": {
        "id": "1GCwu7pnpdf5"
      },
      "execution_count": null,
      "outputs": []
    },
    {
      "cell_type": "code",
      "source": [
        "# kwl - ROI pooling initial (2/25/23)\n",
        "\n",
        "# Array for testing - dummy 30x30 feature map\n",
        "testImage = np.random.rand(30,30)\n",
        "for x in range(0,30):\n",
        "  for y in range(0,30):\n",
        "    testImage[x][y] = int(testImage[x][y] * 255)\n",
        "print(testImage)\n",
        "plt.imshow(testImage)"
      ],
      "metadata": {
        "colab": {
          "base_uri": "https://localhost:8080/",
          "height": 1000
        },
        "id": "Mt5KpgZ6pfft",
        "outputId": "3d349ff6-45fc-4d14-8323-812c8cc825ce"
      },
      "execution_count": 17,
      "outputs": [
        {
          "output_type": "stream",
          "name": "stdout",
          "text": [
            "[[ 15. 106.  89. 152.   4. 158.  41. 239. 227. 172. 192.   5.  54. 169.\n",
            "  253.  74. 182. 169.  28. 115.  86. 194. 132. 196. 141. 253. 106.  14.\n",
            "  197. 206.]\n",
            " [206.  12. 214. 205. 212. 153.  63.  92. 124.  27. 249. 205.  27. 142.\n",
            "   51.  74. 231. 193.  28.  75.  80. 244.  15. 119.  51. 217.  66. 159.\n",
            "   59.  78.]\n",
            " [ 94. 208. 156. 209.  61. 204. 222. 107. 179. 157. 126. 138.  60. 144.\n",
            "   95.  75. 162. 252.  55. 171.  34.  35. 206. 217. 236. 138. 238. 167.\n",
            "  121.  51.]\n",
            " [ 43.  56.  36. 246. 218. 185.  47.  13. 153. 175. 142. 228. 153.  60.\n",
            "  139.  68. 199. 161. 230. 122. 187. 159. 231.  30.  97.  19. 112. 252.\n",
            "  114.  15.]\n",
            " [139. 246.  23.  79. 145. 159. 212.  58. 176. 173. 226. 188. 190. 137.\n",
            "  142.   6. 207. 106. 119.  81.  30.  35.  53. 105. 154.  24. 106. 227.\n",
            "    0. 232.]\n",
            " [  2.  34.  83. 138. 188. 178. 137. 252.  99.  43. 119. 124.  57. 203.\n",
            "   55. 248. 103. 125. 147. 204. 154.  67. 144. 161. 145. 162.  43. 102.\n",
            "  201.  89.]\n",
            " [ 17.  63. 137.  49. 225.  12. 245. 223. 238. 103. 254. 194.  69.  21.\n",
            "   69. 249.  30.  51. 101. 221. 212.  37.  43. 171.  94. 106. 112. 153.\n",
            "   85.  47.]\n",
            " [200. 128. 117.  64. 130. 233.  94. 124.  58. 187.   2.  82. 147. 242.\n",
            "   18. 121. 253. 149.  75. 243. 173. 104. 184.  36. 126.  17. 109. 147.\n",
            "  151.  25.]\n",
            " [189.  18.  38. 210. 152. 141. 156.  11. 196.  98.  60. 159.  82. 149.\n",
            "  147. 178. 204. 231. 103. 198. 138.  50. 119. 153. 211. 214. 184. 252.\n",
            "  199. 152.]\n",
            " [173.  89.  75. 211.   8. 228.  53. 207.  24.  60. 144.  97. 245. 234.\n",
            "   12.  16. 232. 143. 197. 228.  33. 146. 116. 233. 122. 199. 106.  63.\n",
            "  243. 111.]\n",
            " [ 76. 151. 205.  99. 184. 148. 197.  34. 102.  90.   8. 141. 165. 144.\n",
            "   74.  42. 214. 216. 169.  79.  23. 204. 218. 213. 128. 228.  22. 212.\n",
            "    1.  88.]\n",
            " [170. 251.  19. 147. 158. 236. 100.  48.  96.  75. 200.  10.   5. 124.\n",
            "   82. 131. 253.  14. 112.  67.  55.  72. 120. 106. 105. 192.  22.  61.\n",
            "  117. 184.]\n",
            " [ 25. 158.  63.  14. 204. 103. 186.  22.  12.  91. 136. 217.  70.  59.\n",
            "  165.   1.  29.  87.  56.  45. 151. 146.  75.  70. 249. 100. 223. 196.\n",
            "  171. 141.]\n",
            " [250.  64.  46. 141. 124. 176.  10. 229.  62. 158.  45. 200.  54. 254.\n",
            "  233. 128.  24. 164.  29. 147. 194. 109. 225.  15. 119. 184.  31. 113.\n",
            "   40. 136.]\n",
            " [221. 137. 160.  48.  24. 144. 195. 210.  17.  11. 114.  91.  19. 217.\n",
            "   64.  15. 170. 144. 147.  36.  61. 163. 101.  29. 105. 135. 115. 210.\n",
            "  115. 114.]\n",
            " [242.  31. 128. 162. 211. 163.  27.   3. 197.  17. 219.  89. 229. 142.\n",
            "   79.  46.  97. 107. 171. 253. 245.  26. 155. 106.  65. 215. 154.  82.\n",
            "  119. 165.]\n",
            " [157.  24. 198. 221.  63.  71.  55.  95. 232. 211.  93.   6.  73. 121.\n",
            "  151. 179.  25.  29.  14. 112.  22. 234. 144.  82. 164. 102. 238. 145.\n",
            "  177. 111.]\n",
            " [ 66.  27. 197. 153. 213.  85.   4. 177.  39.  31. 204.  83. 193. 195.\n",
            "   98.  80.  39. 173.  69. 179. 147.   7.  49.  77. 112.  90.  27.  66.\n",
            "   45. 126.]\n",
            " [212. 128.  37.   9. 210.  35. 226.   8. 232. 111. 152. 128.  95. 203.\n",
            "  111.  45. 137.  14. 248. 206.  29. 181.  22. 224.  61.  33. 213. 105.\n",
            "   42. 116.]\n",
            " [189. 123. 253.  84. 221.  25. 185.   8. 145.  53. 121. 116. 171.  92.\n",
            "  197.  27.  44.  90. 173.  37.   5.  92.  88. 251.  29.  57.  72. 158.\n",
            "  166.  26.]\n",
            " [224. 201. 201. 149. 252.  77. 142.  90. 127. 202. 115.  51.  56.   4.\n",
            "  110.  40.  20. 101.  70. 144. 101.  57. 202. 221.  55. 140.  42. 161.\n",
            "   68.  16.]\n",
            " [187.  22.  69.  59.  27.  33. 167. 217. 188.  50. 193. 179. 248. 137.\n",
            "  172. 188. 103. 110. 215. 249. 243.  65. 142. 109.  84.  67. 118. 116.\n",
            "  226. 148.]\n",
            " [ 39.  82.  65.  39. 161.  79. 178. 181. 109. 142. 124.  73.  56.  34.\n",
            "  191. 139. 138. 137. 149. 206.  20. 223.  70.  79. 156.  69. 126. 211.\n",
            "    9. 122.]\n",
            " [211. 238. 161. 147.  73.  52.  85.  10. 189. 213. 240. 125.  27. 155.\n",
            "   36. 237.  49.   6. 208. 185.  90. 106. 119. 197. 131.  20. 120. 226.\n",
            "  185. 199.]\n",
            " [243.  64.  37.  53.  58.  74.  19. 254. 214.  10. 109. 175. 208. 149.\n",
            "   11.  23. 171. 102. 190.  41. 180. 215. 101. 159. 112. 108. 176.  15.\n",
            "  147. 163.]\n",
            " [240. 134. 177.  43.  78.  87. 208.   3.  40. 233. 196. 144.  96. 232.\n",
            "  107. 115.  68. 147. 212. 243. 159.  67.  59.  44. 111. 239. 208.  99.\n",
            "  135.  94.]\n",
            " [  8. 181.  86. 160. 147.  56. 226.   5.  98. 111. 180.  61. 231. 128.\n",
            "   91. 137.  27.  67. 191.  72.  89.  54. 191.  50.  64.  32.  50. 104.\n",
            "  121.  45.]\n",
            " [219.  98.  24. 176. 218.   5. 173.  23. 169.  11.  84. 213.  13. 197.\n",
            "  201.  26. 154. 185. 233. 245. 108.  92. 156. 106.  47. 108.  92. 101.\n",
            "   24. 247.]\n",
            " [ 47. 137. 123.  61.  13. 100.  48. 254. 193. 195.  80.  92. 222.  52.\n",
            "   73. 186. 104. 144.  26. 235. 121. 178. 117.   4. 146.  53.  53. 148.\n",
            "  151.  48.]\n",
            " [126. 232. 182.  97. 122. 162. 160.  47.  59. 137. 152. 204.   3. 196.\n",
            "  135. 227.  93. 235.  87. 112. 171. 195. 105. 237.  59. 242. 224.  28.\n",
            "  202. 241.]]\n"
          ]
        },
        {
          "output_type": "execute_result",
          "data": {
            "text/plain": [
              "<matplotlib.image.AxesImage at 0x7f82e5a26d60>"
            ]
          },
          "metadata": {},
          "execution_count": 17
        },
        {
          "output_type": "display_data",
          "data": {
            "text/plain": [
              "<Figure size 432x288 with 1 Axes>"
            ],
            "image/png": "[encoded data removed]"
          },
          "metadata": {
            "needs_background": "light"
          }
        }
      ]
    },
    {
      "cell_type": "code",
      "source": [
        "# Creating mock ROI boundaries & output map size\n",
        "roiCorners = [5, 5, 20, 25]\n",
        "outSize = [3, 3]"
      ],
      "metadata": {
        "id": "5hxqc0rhp42N"
      },
      "execution_count": 21,
      "outputs": []
    },
    {
      "cell_type": "code",
      "source": [
        "def imgPooling(imageIn, ROI, poolSize):\n",
        "\n",
        "  region = imageIn[ROI[0]:ROI[2],ROI[1]:ROI[3]] # Extracting ROI from image using input coordinates\n",
        "  # Note: This will probably later have to be changed to use the center, not two corners like it is right now\n",
        "\n",
        "  regionW, regionH = region.shape\n",
        "\n",
        "  windowW = int(regionW / poolSize[0])\n",
        "  windowH = int(regionH / poolSize[1])\n",
        "  print(windowW, windowH)\n",
        "  # Determining the size of one window\n",
        "\n",
        "  arrayOut = np.zeros((poolSize[0],poolSize[1]))\n",
        "\n",
        "  # Iterating through each window and taking max value\n",
        "  for i in range (0, (poolSize[0])):\n",
        "    for j in range (0, (poolSize[1])):\n",
        "      \n",
        "      windowTL = (windowW * i)\n",
        "      windowTR = (windowW * (i + 1))\n",
        "      windowBL = (windowH * j)\n",
        "      windowBR = (windowH * (j + 1))\n",
        "\n",
        "      window = region[windowTL:windowTR,windowBL:windowBR]\n",
        "\n",
        "      maxVal = np.amax(window)\n",
        "      maxVal = np.amax(maxVal,0)\n",
        "      \n",
        "      arrayOut[i][j] = maxVal\n",
        "\n",
        "  return(arrayOut)"
      ],
      "metadata": {
        "id": "bq648hR5qzNv"
      },
      "execution_count": 22,
      "outputs": []
    },
    {
      "cell_type": "code",
      "source": [
        "# Test block - using randomly generated values from above\n",
        "pooledImg = imgPooling(testImage, roiCorners, outSize)\n",
        "print(pooledImg)\n",
        "plt.imshow(pooledImg)"
      ],
      "metadata": {
        "colab": {
          "base_uri": "https://localhost:8080/",
          "height": 356
        },
        "id": "KakyoN9uv0al",
        "outputId": "95ce3b41-376b-4f70-8711-5874a79c1a66"
      },
      "execution_count": 23,
      "outputs": [
        {
          "output_type": "stream",
          "name": "stdout",
          "text": [
            "5 6\n",
            "[[254. 253. 243.]\n",
            " [236. 254. 225.]\n",
            " [232. 229. 253.]]\n"
          ]
        },
        {
          "output_type": "execute_result",
          "data": {
            "text/plain": [
              "<matplotlib.image.AxesImage at 0x7f82e5a0f910>"
            ]
          },
          "metadata": {},
          "execution_count": 23
        },
        {
          "output_type": "display_data",
          "data": {
            "text/plain": [
              "<Figure size 432x288 with 1 Axes>"
            ],
            "image/png": "[encoded data removed]"
          },
          "metadata": {
            "needs_background": "light"
          }
        }
      ]
    },
    {
      "cell_type": "code",
      "source": [],
      "metadata": {
        "id": "UJfYW29NyDdf"
      },
      "execution_count": null,
      "outputs": []
    }
  ]
}